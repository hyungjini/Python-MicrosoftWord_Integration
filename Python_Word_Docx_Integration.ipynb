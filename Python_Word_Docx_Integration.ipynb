{
  "nbformat": 4,
  "nbformat_minor": 0,
  "metadata": {
    "colab": {
      "provenance": [],
      "authorship_tag": "ABX9TyP6Ib0WOSqNsz67PM1w/W2b",
      "include_colab_link": true
    },
    "kernelspec": {
      "name": "python3",
      "display_name": "Python 3"
    },
    "language_info": {
      "name": "python"
    }
  },
  "cells": [
    {
      "cell_type": "markdown",
      "metadata": {
        "id": "view-in-github",
        "colab_type": "text"
      },
      "source": [
        "<a href=\"https://colab.research.google.com/github/hyungjini/Python-Word-Docx-Integration/blob/main/Python_Word_Docx_Integration.ipynb\" target=\"_parent\"><img src=\"https://colab.research.google.com/assets/colab-badge.svg\" alt=\"Open In Colab\"/></a>"
      ]
    },
    {
      "cell_type": "code",
      "execution_count": null,
      "metadata": {
        "id": "8_6H2lC2_6n0"
      },
      "outputs": [],
      "source": [
        "# 라이브러리 설치 필요: pip install python-docx\n",
        "\n",
        "from docx import Document\n",
        "from docx.shared import Pt, Cm\n",
        "from docx.oxml.ns import qn\n",
        "from docx.enum.text import WD_ALIGN_PARAGRAPH\n",
        "\n",
        "# 출력할 문장들을 저장할 리스트\n",
        "sentences = [\n",
        "    'Please write what you want to add to Word.',\n",
        "]\n",
        "\n",
        "# Word 문서 생성\n",
        "doc = Document()\n",
        "\n",
        "# 문서 본문 내의 제목 추가\n",
        "doc.add_heading('Docx\\'s Head Phrase', level=0)\n",
        "\n",
        "# 서론 단락 추가\n",
        "intro_paragraph = doc.add_paragraph('Please write what you want to add to Word before adding the sentences.')\n",
        "\n",
        "# 리스트에 저장된 문장들을 문서에 추가\n",
        "for sentence in sentences:\n",
        "    doc.add_paragraph(sentence)\n",
        "\n",
        "# 이미지 추가 (이미지 파일명과 크기는 실제 사용 환경에 맞게 조정 필요)\n",
        "doc.add_picture('image_title.png', width=Cm(15), height=Cm(10))\n",
        "\n",
        "# 문서 저장 (문서 이름은 실제 사용 환경에 맞게 조정 필요)\n",
        "doc.save(\"Docx_Name.docx\")\n",
        "\n"
      ]
    }
  ]
}